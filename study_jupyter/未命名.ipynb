{
 "cells": [
  {
   "cell_type": "code",
   "execution_count": 12,
   "metadata": {},
   "outputs": [],
   "source": [
    "import yaml\n",
    "import paddle.fluid as fluid\n",
    "import logging\n",
    "import json\n",
    "import numpy as np"
   ]
  },
  {
   "cell_type": "code",
   "execution_count": 8,
   "metadata": {},
   "outputs": [],
   "source": [
    "# test yaml.load\n",
    "x = ['a=c', 'b=3', 'd=123', 'o=12322', 'dd=aas', 'flag=false']\n",
    "config = {}\n",
    "for elem in x:\n",
    "    elem = elem.strip()\n",
    "    k, v = elem.split('=')\n",
    "    config[k] = yaml.load(v, Loader=yaml.Loader)"
   ]
  },
  {
   "cell_type": "code",
   "execution_count": 15,
   "metadata": {},
   "outputs": [],
   "source": [
    "# logger dict\n",
    "logger = logging.getLogger()\n",
    "logger.info({'a': 'b'})\n",
    "logger.info([1, 2, 3])\n",
    "logger.info(json.dumps({'a': 'b'}))"
   ]
  },
  {
   "cell_type": "code",
   "execution_count": 18,
   "metadata": {},
   "outputs": [
    {
     "name": "stdout",
     "output_type": "stream",
     "text": [
      "Global {'algorithm': 'DB', 'use_gpu': True, 'epoch_num': 1200, 'log_smooth_window': 20, 'print_batch_step': 2, 'save_model_dir': './output/det_db/', 'save_epoch_step': 200, 'eval_batch_step': 5000, 'train_batch_size_per_card': 16, 'test_batch_size_per_card': 16, 'image_shape': [3, 640, 640], 'reader_yml': './configs/det/det_db_icdar15_reader.yml', 'pretrain_weights': './pretrain_models/MobileNetV3_pretrained/MobileNetV3_large_x0_5_pretrained/', 'checkpoints': None, 'save_res_path': './output/det_db/predicts_db.txt', 'save_inference_dir': None}\n",
      "Architecture {'function': 'ppocr.modeling.architectures.det_model,DetModel'}\n",
      "Backbone {'function': 'ppocr.modeling.backbones.det_mobilenet_v3,MobileNetV3', 'scale': 0.5, 'model_name': 'large'}\n",
      "Head {'function': 'ppocr.modeling.heads.det_db_head,DBHead', 'model_name': 'large', 'k': 50, 'inner_channels': 96, 'out_channels': 2}\n",
      "Loss {'function': 'ppocr.modeling.losses.det_db_loss,DBLoss', 'balance_loss': True, 'main_loss_type': 'DiceLoss', 'alpha': 5, 'beta': 10, 'ohem_ratio': 3}\n",
      "Optimizer {'function': 'ppocr.optimizer,AdamDecay', 'base_lr': 0.001, 'beta1': 0.9, 'beta2': 0.999}\n",
      "PostProcess {'function': 'ppocr.postprocess.db_postprocess,DBPostProcess', 'thresh': 0.3, 'box_thresh': 0.7, 'max_candidates': 1000, 'unclip_ratio': 1.5}\n"
     ]
    }
   ],
   "source": [
    "# parse yaml\n",
    "args = yaml.load(open('./det_db_mv3.yml', 'r'), Loader=yaml.Loader)\n",
    "for k, v in args.items():\n",
    "    print(k, v)"
   ]
  },
  {
   "cell_type": "code",
   "execution_count": 20,
   "metadata": {},
   "outputs": [
    {
     "data": {
      "text/plain": [
       "False"
      ]
     },
     "execution_count": 20,
     "metadata": {},
     "output_type": "execute_result"
    }
   ],
   "source": [
    "fluid.is_compiled_with_cuda()"
   ]
  },
  {
   "cell_type": "code",
   "execution_count": 31,
   "metadata": {},
   "outputs": [
    {
     "name": "stdout",
     "output_type": "stream",
     "text": [
      "[[0, 1], [5], [9, 10]]\n"
     ]
    },
    {
     "data": {
      "text/plain": [
       "array([0, 1])"
      ]
     },
     "execution_count": 31,
     "metadata": {},
     "output_type": "execute_result"
    }
   ],
   "source": [
    "def split_ragions(axis):\n",
    "    regions = []\n",
    "    min_axis = 0\n",
    "    for i in range(1, len(axis)):\n",
    "        if axis[i] != axis[i - 1] + 1:\n",
    "            region = axis[min_axis: i]\n",
    "            min_axis = i\n",
    "            regions.append(region)\n",
    "    return regions\n",
    "\n",
    "axis = [0, 1, 5, 9, 10, 13]\n",
    "region = split_ragions(axis)\n",
    "print(region)\n",
    "np.random.choice(len(region), 2)"
   ]
  },
  {
   "cell_type": "code",
   "execution_count": 21,
   "metadata": {},
   "outputs": [
    {
     "data": {
      "text/plain": [
       "array([0, 0])"
      ]
     },
     "execution_count": 21,
     "metadata": {},
     "output_type": "execute_result"
    }
   ],
   "source": [
    "np.random.choice(1, 2)"
   ]
  },
  {
   "cell_type": "code",
   "execution_count": 32,
   "metadata": {},
   "outputs": [
    {
     "name": "stdout",
     "output_type": "stream",
     "text": [
      "[[0, 1], [5], [9, 10], [13]]\n"
     ]
    }
   ],
   "source": [
    "def my_split_regions(axis):\n",
    "    regions = []\n",
    "    i = 0\n",
    "    while(i < len(axis)):\n",
    "        j = i + 1\n",
    "        while(j < len(axis) and axis[j] - axis[i] == j - i):\n",
    "            j += 1\n",
    "        regions.append(axis[i: j])\n",
    "        i = j\n",
    "    return regions\n",
    "\n",
    "axis = [0, 1, 5, 9, 10, 13]\n",
    "region = my_split_regions(axis)\n",
    "print(region)"
   ]
  },
  {
   "cell_type": "code",
   "execution_count": null,
   "metadata": {},
   "outputs": [],
   "source": []
  }
 ],
 "metadata": {
  "kernelspec": {
   "display_name": "general",
   "language": "python",
   "name": "general"
  },
  "language_info": {
   "codemirror_mode": {
    "name": "ipython",
    "version": 3
   },
   "file_extension": ".py",
   "mimetype": "text/x-python",
   "name": "python",
   "nbconvert_exporter": "python",
   "pygments_lexer": "ipython3",
   "version": "3.7.7"
  }
 },
 "nbformat": 4,
 "nbformat_minor": 4
}
